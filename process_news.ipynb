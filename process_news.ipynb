{
 "cells": [
  {
   "cell_type": "code",
   "execution_count": 2,
   "id": "dfd86e53",
   "metadata": {},
   "outputs": [],
   "source": [
    "import pandas as pd"
   ]
  },
  {
   "cell_type": "code",
   "execution_count": 51,
   "id": "46c16dd7",
   "metadata": {},
   "outputs": [],
   "source": [
    "year = 2020"
   ]
  },
  {
   "cell_type": "code",
   "execution_count": 52,
   "id": "61674284",
   "metadata": {},
   "outputs": [],
   "source": [
    "df = pd.read_csv(f\"./data/news/result_{year}_join.csv\")"
   ]
  },
  {
   "cell_type": "code",
   "execution_count": 9,
   "id": "a98c7143",
   "metadata": {},
   "outputs": [],
   "source": [
    "filtered_df = df[~df['Article'].isna()] # .str.split().str.len().max()"
   ]
  },
  {
   "cell_type": "code",
   "execution_count": 15,
   "id": "4f85e423",
   "metadata": {},
   "outputs": [],
   "source": [
    "out = (\n",
    "    filtered_df.groupby([\"Stock_symbol\", \"EPSDATS\"], as_index=False)\n",
    "      .agg(Article=('Article', lambda s: ' | '.join(s.dropna().astype(str))))\n",
    ")"
   ]
  },
  {
   "cell_type": "code",
   "execution_count": 18,
   "id": "ebbb69a8",
   "metadata": {},
   "outputs": [
    {
     "data": {
      "text/plain": [
       "np.float64(11156.124567474048)"
      ]
     },
     "execution_count": 18,
     "metadata": {},
     "output_type": "execute_result"
    }
   ],
   "source": [
    "out['Article'].str.split().str.len().mean()"
   ]
  },
  {
   "cell_type": "code",
   "execution_count": 53,
   "id": "dde6eae7",
   "metadata": {},
   "outputs": [],
   "source": [
    "filtered_lsa_df = df[~df['Lsa_summary'].isna()] "
   ]
  },
  {
   "cell_type": "code",
   "execution_count": 54,
   "id": "5499cabc",
   "metadata": {},
   "outputs": [],
   "source": [
    "out_lsa = (\n",
    "    filtered_lsa_df.groupby([\"Stock_symbol\", \"EPSDATS\"], as_index=False)\n",
    "      .agg(Lsa_summary=('Lsa_summary', lambda s: ' | '.join(s.dropna().astype(str))))\n",
    ")"
   ]
  },
  {
   "cell_type": "code",
   "execution_count": 55,
   "id": "46278c29",
   "metadata": {},
   "outputs": [
    {
     "data": {
      "text/plain": [
       "np.int64(92138)"
      ]
     },
     "execution_count": 55,
     "metadata": {},
     "output_type": "execute_result"
    }
   ],
   "source": [
    "out_lsa['Lsa_summary'].str.split().str.len().max()"
   ]
  },
  {
   "cell_type": "code",
   "execution_count": 56,
   "id": "79909924",
   "metadata": {},
   "outputs": [],
   "source": [
    "out_lsa.to_csv(f\"news_{year}_agg.csv\", index=False)"
   ]
  }
 ],
 "metadata": {
  "kernelspec": {
   "display_name": "venv",
   "language": "python",
   "name": "python3"
  },
  "language_info": {
   "codemirror_mode": {
    "name": "ipython",
    "version": 3
   },
   "file_extension": ".py",
   "mimetype": "text/x-python",
   "name": "python",
   "nbconvert_exporter": "python",
   "pygments_lexer": "ipython3",
   "version": "3.10.12"
  }
 },
 "nbformat": 4,
 "nbformat_minor": 5
}
